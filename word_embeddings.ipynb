{
 "cells": [
  {
   "cell_type": "code",
   "execution_count": 111,
   "metadata": {},
   "outputs": [],
   "source": [
    "import pandas as pd\n",
    "import numpy as np\n",
    "import nltk\n",
    "from nltk.corpus import words\n",
    "from gensim.models import KeyedVectors\n",
    "import gensim.downloader as api"
   ]
  },
  {
   "cell_type": "code",
   "execution_count": null,
   "metadata": {},
   "outputs": [
    {
     "name": "stderr",
     "output_type": "stream",
     "text": [
      "b'Skipping line 18259: expected 14 fields, saw 15\\nSkipping line 18273: expected 14 fields, saw 15\\n'\n"
     ]
    }
   ],
   "source": [
    "df = pd.read_csv('urlset/urlset.csv', error_bad_lines=False, encoding='latin1')\n",
    "urls = df['domain'].to_numpy()\n",
    "d = set(words.words())\n",
    "word_vectors = api.load(\"glove-wiki-gigaword-100\")  "
   ]
  },
  {
   "cell_type": "code",
   "execution_count": null,
   "metadata": {},
   "outputs": [],
   "source": [
    "# this function will find dictionary words in the input string\n",
    "def find_words(subs):\n",
    "    \n",
    "    i = 0\n",
    "    j = 4\n",
    "    w = set()\n",
    "    for s in subs:\n",
    "        if len(s) < 4:\n",
    "            continue\n",
    "        for i in range(len(s) - 1):\n",
    "            for j in range(3, len(s) - i):\n",
    "                #print(s[i:i+j+1], s[i:i+j+1] in d)\n",
    "                if s[i:i+j+1] in d:\n",
    "                    w.add(s[i:i+j+1])\n",
    "    return w"
   ]
  },
  {
   "cell_type": "code",
   "execution_count": 103,
   "metadata": {},
   "outputs": [],
   "source": [
    "#for url in urls:\n",
    "url = urls[0]\n",
    "sub_domains = url.split('/')[1:] # ignore domain name\n",
    "w = find_words(sub_domains)"
   ]
  },
  {
   "cell_type": "code",
   "execution_count": 104,
   "metadata": {},
   "outputs": [
    {
     "name": "stdout",
     "output_type": "stream",
     "text": [
      "{'page', 'outdate', 'aile', 'outdated', 'index', 'profile', 'inde', 'fail', 'login', 'veri', 'file', 'prof', 'load', 'date', 'cation', 'cess', 'access', 'verification'}\n",
      "nobell.it/70ffb52d079109dca5664cce6f317373782/login.SkyPe.com/en/cgi-bin/verification/login/70ffb52d079109dca5664cce6f317373/index.php?cmd=_profile-ach&outdated_page_tmpl=p/gen/failed-to-load&nav=0.5.1&login_access=1322408526\n"
     ]
    }
   ],
   "source": [
    "print(w)\n",
    "print(urls[0])"
   ]
  },
  {
   "cell_type": "code",
   "execution_count": 109,
   "metadata": {},
   "outputs": [],
   "source": [
    "similar_words = set()\n",
    "for wi in w:\n",
    "    try:\n",
    "        similar = set((np.asarray(word_vectors.most_similar([wi], topn=5, restrict_vocab=None)).T)[0])\n",
    "    except:\n",
    "        continue\n",
    "    else:   \n",
    "        similar_words = similar_words.union(similar)\n",
    "\n",
    "w_expanded = w.union(similar_words)"
   ]
  },
  {
   "cell_type": "code",
   "execution_count": 110,
   "metadata": {},
   "outputs": [
    {
     "name": "stdout",
     "output_type": "stream",
     "text": [
      "{'page', 'outdate', 'aile', 'outdated', 'index', 'profile', 'inde', 'fail', 'login', 'veri', 'file', 'prof', 'load', 'date', 'cation', 'cess', 'access', 'verification'}\n",
      "{'application', 'loaded', 'prof', 'provides', 'gadar', 'agree', 'dates', 'tecnológica', 'benchmark', 'next', 'profiles', 'guinée', 'xantho', 'carry', 'usernames', 'tropaeolum', 'ions', 'information', 'indexes', 'banane', '’n’', 'validation', 'nasdaq', 'inde', 'loads', 'beginning', 'authentication', 'date', 'photo', 'disarmament', 'vice-chancellor', 'dr', 'fails', 'prof.', 'divalent', 'pages', 'must', 'merkezi', 'index', 'bérénice', 'profile', 'fail', 'stock', 'internet', 'compliance', 'prominent', 'cess', 'εἰς', 'outmoded', 'verification', 'page', 'user', 'providing', 'username', 'prior', 'anion', 'load', 'filing', 'anions', 'cations', 'files', 'access', 'changement', 'aile', 'loading', 'gabelle', 'composite', 'al-mutlaq', 'login', 'passwords', 'file', 'inspection', 'attention', 'inefficient', 'onlytest', 'web', 'provide', 'article', 'lez', 'ranat', 'antiquated', 'outdated', 'latest', 'drs.', '22e', 'obsolete', 'ltée', 'failed', 'inadequate', 'earliest', 'brygada', 'datuk', 'recent', 'cazadores', 'outdate', 'chuci', 'monitoring', 'veri', 'cation', 'column', 'password', 'cannot', 'weight'}\n"
     ]
    }
   ],
   "source": [
    "print(w)\n",
    "print(w_expanded)"
   ]
  },
  {
   "cell_type": "code",
   "execution_count": null,
   "metadata": {},
   "outputs": [],
   "source": []
  }
 ],
 "metadata": {
  "kernelspec": {
   "display_name": "Python 3",
   "language": "python",
   "name": "python3"
  },
  "language_info": {
   "codemirror_mode": {
    "name": "ipython",
    "version": 3
   },
   "file_extension": ".py",
   "mimetype": "text/x-python",
   "name": "python",
   "nbconvert_exporter": "python",
   "pygments_lexer": "ipython3",
   "version": "3.8.0"
  }
 },
 "nbformat": 4,
 "nbformat_minor": 4
}
